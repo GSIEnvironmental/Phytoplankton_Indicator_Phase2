{
 "cells": [
  {
   "cell_type": "markdown",
   "metadata": {},
   "source": [
    "---\n",
    "title: Reading Parquet Datasets using Python\n",
    "description: A guide to reading Parquet datasets in Python using PyArrow, Pandas, and Polars.\n",
    "author: GSI Environmental Inc.\n",
    "date: 2025-01-22\n",
    "code-fold: false\n",
    "execute:\n",
    "  freeze: true\n",
    "---"
   ]
  },
  {
   "cell_type": "markdown",
   "metadata": {},
   "source": [
    "This page describes how to read [Parquet](https://parquet.apache.org/) datasets in Python using PyArrow, Pandas, and Polars. This page does *not* go into detail on how to perform analysis on the data once it is read into one of these libraries. For more information on how to perform analysis using one of these libraries, see the following:\n",
    "\n",
    "- [Pandas](https://pandas.pydata.org/docs/)\n",
    "- [Polars](https://pola-rs.github.io/polars-book/)\n",
    "- [PyArrow](https://arrow.apache.org/docs/python/)"
   ]
  },
  {
   "cell_type": "markdown",
   "metadata": {},
   "source": [
    "## Python Setup\n",
    "\n",
    "1. Install Python version 3.10, 3.11, or 3.12.\n",
    "2. Install required dependencies: `python -m pip install jupyter pyarrow polars pandas`"
   ]
  },
  {
   "cell_type": "markdown",
   "metadata": {},
   "source": [
    "## Import Libraries"
   ]
  },
  {
   "cell_type": "code",
   "execution_count": 43,
   "metadata": {},
   "outputs": [],
   "source": [
    "# Standard libraries\n",
    "import logging\n",
    "from pathlib import Path\n",
    "\n",
    "# Third party libraries\n",
    "import polars as pl\n",
    "import pyarrow as pa\n",
    "import pyarrow.parquet as pq\n",
    "import pandas as pd"
   ]
  },
  {
   "cell_type": "markdown",
   "metadata": {},
   "source": [
    "## Configure Logging"
   ]
  },
  {
   "cell_type": "code",
   "execution_count": 44,
   "metadata": {},
   "outputs": [],
   "source": [
    "logging.basicConfig(\n",
    "    level=logging.INFO, format=\"%(message)s\"\n",
    ")\n",
    "logger = logging.getLogger(__name__)"
   ]
  },
  {
   "cell_type": "markdown",
   "metadata": {},
   "source": [
    "## Define Variables"
   ]
  },
  {
   "cell_type": "code",
   "execution_count": 45,
   "metadata": {},
   "outputs": [],
   "source": [
    "# Path to the parent folder containing the Parquet dataset folder.\n",
    "# If the dataset is in the current working directory, this can be set to \".\".\n",
    "DATA_DIR = Path(\"data\")\n",
    "# Name of the dataset folder (i.e., \"Bottle\", \"CTD\", \"Mooring\", \"Species_Abundance\").\n",
    "DATASET = Path(\"Bottle\")\n",
    "\n",
    "# Full path to the dataset folder.\n",
    "DATASET_DIR = DATA_DIR / DATASET"
   ]
  },
  {
   "cell_type": "markdown",
   "metadata": {},
   "source": [
    "## Reading Dataset Metadata"
   ]
  },
  {
   "cell_type": "code",
   "execution_count": 46,
   "metadata": {},
   "outputs": [
    {
     "name": "stderr",
     "output_type": "stream",
     "text": [
      "Parquet format version: 2.6\n",
      "Columns: 55\n",
      "Row groups: 50\n",
      "Rows: 100500\n",
      "created_at: 2025-01-22T12:17:58.319666\n",
      "author: GSI Environmental Inc.\n",
      "dataset_name: Bottle\n"
     ]
    }
   ],
   "source": [
    "meta = pq.read_metadata(DATASET_DIR / \"_metadata\")\n",
    "logger.info(f\"Parquet format version: {meta.format_version}\")\n",
    "logger.info(f\"Columns: {meta.num_columns}\")\n",
    "logger.info(f\"Row groups: {meta.num_row_groups}\")\n",
    "logger.info(f\"Rows: {meta.num_rows}\")\n",
    "\n",
    "for key, value in meta.metadata.items():\n",
    "    if \"schema\" not in key.decode(\"utf-8\"):\n",
    "        logger.info(f\"{key.decode('utf-8')}: {value.decode('utf-8')}\")"
   ]
  },
  {
   "cell_type": "markdown",
   "metadata": {},
   "source": [
    "## Reading the Dataset with PyArrow\n",
    "\n",
    "[PyArrow reference](https://arrow.apache.org/docs/python/generated/pyarrow.parquet.ParquetDataset.html)"
   ]
  },
  {
   "cell_type": "code",
   "execution_count": 47,
   "metadata": {},
   "outputs": [
    {
     "name": "stderr",
     "output_type": "stream",
     "text": [
      "Files: 27\n",
      "Columns:\n",
      "  area_id             : string\n",
      "  location_id         : string\n",
      "  loc_desc            : string\n",
      "  loc_type            : string\n",
      "  loc_geom            : string\n",
      "  x_coord             : double\n",
      "  y_coord             : double\n",
      "  srid                : int64\n",
      "  coord_sys           : string\n",
      "  loc_method          : string\n",
      "  provider            : string\n",
      "  study_id            : string\n",
      "  study_name          : string\n",
      "  sample_doc          : string\n",
      "  sample_date         : timestamp[us]\n",
      "  coll_scheme         : string\n",
      "  sample_material     : string\n",
      "  sample_id           : string\n",
      "  sample_desc         : string\n",
      "  original_sample_id  : string\n",
      "  upper_depth         : double\n",
      "  lower_depth         : double\n",
      "  depth_units         : string\n",
      "  split_type          : string\n",
      "  sample_no           : string\n",
      "  lab                 : string\n",
      "  lab_pkg             : string\n",
      "  material            : string\n",
      "  material_analyzed   : string\n",
      "  labsample           : string\n",
      "  lab_rep             : string\n",
      "  method_code         : string\n",
      "  method_desc         : string\n",
      "  chem_class          : string\n",
      "  cas_rn              : string\n",
      "  analyte             : string\n",
      "  analyte_name        : string\n",
      "  result              : double\n",
      "  qualifiers          : string\n",
      "  lab_flags           : string\n",
      "  validator_flags     : string\n",
      "  detected            : string\n",
      "  detection_limit     : double\n",
      "  quantification_limit: double\n",
      "  reporting_limit     : double\n",
      "  units               : string\n",
      "  meas_basis          : string\n",
      "  fraction            : string\n",
      "  dilution_factor     : double\n",
      "  data_quality        : string\n",
      "  qa_level            : string\n",
      "  date_analyzed       : string\n",
      "  date_extracted      : string\n",
      "  doc_file            : string\n",
      "  comments            : string\n",
      "  provider_key        : dictionary<values=string, indices=int32, ordered=0>\n",
      "  year                : dictionary<values=int32, indices=int32, ordered=0>\n"
     ]
    }
   ],
   "source": [
    "ds = pq.ParquetDataset(DATASET_DIR)\n",
    "\n",
    "logger.info(f\"Files: {len(ds.files)}\")\n",
    "columns = ds.schema.names\n",
    "dtypes = ds.schema.types\n",
    "column_dtypes = {column: dtype for column, dtype in zip(columns, dtypes)}\n",
    "logger.info(\"Columns:\")\n",
    "for column, dtype in column_dtypes.items():\n",
    "    logger.info(f\"  {str(column):<20}: {dtype}\")"
   ]
  },
  {
   "cell_type": "code",
   "execution_count": 48,
   "metadata": {},
   "outputs": [
    {
     "data": {
      "text/plain": [
       "pyarrow.Table\n",
       "area_id: string\n",
       "location_id: string\n",
       "upper_depth: double\n",
       "lower_depth: double\n",
       "depth_units: string\n",
       "sample_date: timestamp[us]\n",
       "analyte: string\n",
       "result: double\n",
       "units: string\n",
       "----\n",
       "area_id: [[\"Puget Sound: Main Basin\",\"Puget Sound: Main Basin\",\"Puget Sound: Main Basin\",\"Puget Sound: Main Basin\",\"Puget Sound: Main Basin\",...,\"Puget Sound: Whidbey Basin\",\"Puget Sound: Whidbey Basin\",\"Puget Sound: Whidbey Basin\",\"Puget Sound: Whidbey Basin\",\"Puget Sound: Whidbey Basin\"],[\"Puget Sound: Whidbey Basin\",\"Puget Sound: Whidbey Basin\",\"Puget Sound: Whidbey Basin\",\"Puget Sound: Whidbey Basin\",\"Puget Sound: Whidbey Basin\",...,\"Puget Sound: Hood Canal\",\"Puget Sound: Hood Canal\",\"Puget Sound: Hood Canal\",\"Puget Sound: Hood Canal\",\"Puget Sound: Hood Canal\"],...,[\"Puget Sound: Admiralty Inlet\",\"Puget Sound: Admiralty Inlet\",\"Puget Sound: Admiralty Inlet\",\"Puget Sound: Admiralty Inlet\",\"Puget Sound: Admiralty Inlet\",...,\"Puget Sound: Admiralty Inlet\",\"Puget Sound: Admiralty Inlet\",\"Puget Sound: Admiralty Inlet\",\"Puget Sound: Admiralty Inlet\",\"Puget Sound: Admiralty Inlet\"],[\"Puget Sound: Admiralty Inlet\",\"Puget Sound: Admiralty Inlet\",\"Puget Sound: Admiralty Inlet\",\"Puget Sound: Admiralty Inlet\",\"Puget Sound: Admiralty Inlet\",...,\"Puget Sound: Admiralty Inlet\",\"Puget Sound: Admiralty Inlet\",\"Puget Sound: Admiralty Inlet\",\"Puget Sound: Admiralty Inlet\",\"Puget Sound: Admiralty Inlet\"]]\n",
       "location_id: [[\"UW_P31\",\"UW_P31\",\"UW_P31\",\"UW_P31\",\"UW_P31\",...,\"UW_P4\",\"UW_P4\",\"UW_P4\",\"UW_P4\",\"UW_P4\"],[\"UW_P5\",\"UW_P5\",\"UW_P5\",\"UW_P5\",\"UW_P5\",...,\"UW_P9\",\"UW_P9\",\"UW_P9\",\"UW_P9\",\"UW_P9\"],...,[\"WA_Ecology_ADM001\",\"WA_Ecology_ADM001\",\"WA_Ecology_ADM001\",\"WA_Ecology_ADM001\",\"WA_Ecology_ADM001\",...,\"WA_Ecology_ADM001\",\"WA_Ecology_ADM001\",\"WA_Ecology_ADM001\",\"WA_Ecology_ADM001\",\"WA_Ecology_ADM001\"],[\"WA_Ecology_ADM001\",\"WA_Ecology_ADM001\",\"WA_Ecology_ADM001\",\"WA_Ecology_ADM001\",\"WA_Ecology_ADM001\",...,\"WA_Ecology_ADM001\",\"WA_Ecology_ADM001\",\"WA_Ecology_ADM001\",\"WA_Ecology_ADM001\",\"WA_Ecology_ADM001\"]]\n",
       "upper_depth: [[2.12,2.12,2.12,2.12,2.12,...,83.18,83.18,83.18,83.18,83.18],[1.4,1.4,1.4,1.4,1.4,...,67.1,67.1,67.1,67.1,67.1],...,[1,1,1,1,1,...,52,52,52,52,52],[52.5,52.5,52.5,52.5,52.5,...,72.5,72.5,72.5,72.5,73]]\n",
       "lower_depth: [[2.12,2.12,2.12,2.12,2.12,...,83.18,83.18,83.18,83.18,83.18],[1.4,1.4,1.4,1.4,1.4,...,67.1,67.1,67.1,67.1,67.1],...,[1,1,1,1,1,...,52,52,52,52,52],[52.5,52.5,52.5,52.5,52.5,...,72.5,72.5,72.5,72.5,73]]\n",
       "depth_units: [[\"m\",\"m\",\"m\",\"m\",\"m\",...,\"m\",\"m\",\"m\",\"m\",\"m\"],[\"m\",\"m\",\"m\",\"m\",\"m\",...,\"m\",\"m\",\"m\",\"m\",\"m\"],...,[\"m\",\"m\",\"m\",\"m\",\"m\",...,\"m\",\"m\",\"m\",\"m\",\"m\"],[\"m\",\"m\",\"m\",\"m\",\"m\",...,\"m\",\"m\",\"m\",\"m\",\"m\"]]\n",
       "sample_date: [[1999-06-15 08:39:43.000000,1999-06-15 08:39:43.000000,1999-06-15 08:39:43.000000,1999-06-15 08:39:43.000000,1999-06-15 08:39:43.000000,...,1999-12-20 03:58:50.000000,1999-12-20 03:58:50.000000,1999-12-20 03:58:50.000000,1999-12-20 03:58:50.000000,1999-12-20 03:58:50.000000],[1999-08-19 01:41:22.000000,1999-08-19 01:41:22.000000,1999-08-19 01:41:22.000000,1999-08-19 01:41:22.000000,1999-08-19 01:41:22.000000,...,1999-12-21 13:24:20.000000,1999-12-21 13:24:20.000000,1999-12-21 13:24:20.000000,1999-12-21 13:24:20.000000,1999-12-21 13:24:20.000000],...,[2003-01-07 11:09:03.000000,2003-01-07 11:09:03.000000,2003-01-07 11:09:03.000000,2003-01-07 11:09:03.000000,2003-01-07 11:09:03.000000,...,2003-07-08 11:11:53.000000,2003-07-08 11:11:53.000000,2003-07-08 11:11:53.000000,2003-07-08 11:11:53.000000,2003-07-08 11:11:53.000000],[2003-07-08 11:11:55.000000,2003-07-08 11:11:55.000000,2003-07-08 11:11:55.000000,2003-07-08 11:11:55.000000,2003-07-08 11:11:55.000000,...,2003-08-05 10:34:02.000000,2003-08-05 10:34:02.000000,2003-08-05 10:34:02.000000,2003-08-05 10:34:02.000000,2003-08-05 10:34:03.000000]]\n",
       "analyte: [[\"Nitrate\",\"Nitrite\",\"Phosphate\",\"Ammonium\",\"Chlorophyll\",...,\"Nitrite\",\"Phosphate\",\"Ammonium\",\"DO\",\"Silicate\"],[\"Nitrate\",\"Nitrite\",\"Phosphate\",\"Ammonium\",\"Chlorophyll\",...,\"Nitrite\",\"Phosphate\",\"Ammonium\",\"DO\",\"Silicate\"],...,[\"FluoroAdjusted\",\"ChlorophyllA\",\"Pheophytin\",\"ChlorophyllA\",\"Pheophytin\",...,\"FluoroAdjusted\",\"ChlorophyllA\",\"Pheophytin\",\"ChlorophyllA\",\"Pheophytin\"],[\"FluoroAdjusted\",\"ChlorophyllA\",\"Pheophytin\",\"ChlorophyllA\",\"Pheophytin\",...,\"ChlorophyllA\",\"Pheophytin\",\"ChlorophyllA\",\"Pheophytin\",\"FluoroAdjusted\"]]\n",
       "result: [[11.77,0.63,1.41,2.56,2.5,...,0.14,2.71,0.04,5.43,63.45],[12.6,0.37,1.47,0.55,2.04,...,0.11,2.7,0,5.9,62.4],...,[0,0,0,0,0,...,7.639,0,0,0,0],[7.7178,0,0,0,0,...,0,0,0,0,2.8891]]\n",
       "units: [[\"uM\",\"uM\",\"uM\",\"uM\",\"ug/L\",...,\"uM\",\"uM\",\"uM\",\"mg/L\",\"uM\"],[\"uM\",\"uM\",\"uM\",\"uM\",\"ug/L\",...,\"uM\",\"uM\",\"uM\",\"mg/L\",\"uM\"],...,[\"mg/m3\",\"ug/L\",\"ug/L\",\"ug/L\",\"ug/L\",...,\"mg/m3\",\"ug/L\",\"ug/L\",\"ug/L\",\"ug/L\"],[\"mg/m3\",\"ug/L\",\"ug/L\",\"ug/L\",\"ug/L\",...,\"ug/L\",\"ug/L\",\"ug/L\",\"ug/L\",\"mg/m3\"]]"
      ]
     },
     "execution_count": 48,
     "metadata": {},
     "output_type": "execute_result"
    }
   ],
   "source": [
    "# Read the entire dataset\n",
    "data = ds.read()\n",
    "# Read a couple of columns\n",
    "data = ds.read(columns=[\"area_id\", \"location_id\", \"upper_depth\", \"lower_depth\", \"depth_units\", \"sample_date\", \"analyte\", \"result\", \"units\"])\n",
    "# Show the data\n",
    "data"
   ]
  },
  {
   "cell_type": "code",
   "execution_count": 49,
   "metadata": {},
   "outputs": [
    {
     "data": {
      "text/html": [
       "<div>\n",
       "<style scoped>\n",
       "    .dataframe tbody tr th:only-of-type {\n",
       "        vertical-align: middle;\n",
       "    }\n",
       "\n",
       "    .dataframe tbody tr th {\n",
       "        vertical-align: top;\n",
       "    }\n",
       "\n",
       "    .dataframe thead th {\n",
       "        text-align: right;\n",
       "    }\n",
       "</style>\n",
       "<table border=\"1\" class=\"dataframe\">\n",
       "  <thead>\n",
       "    <tr style=\"text-align: right;\">\n",
       "      <th></th>\n",
       "      <th>area_id</th>\n",
       "      <th>location_id</th>\n",
       "      <th>upper_depth</th>\n",
       "      <th>lower_depth</th>\n",
       "      <th>depth_units</th>\n",
       "      <th>sample_date</th>\n",
       "      <th>analyte</th>\n",
       "      <th>result</th>\n",
       "      <th>units</th>\n",
       "    </tr>\n",
       "  </thead>\n",
       "  <tbody>\n",
       "    <tr>\n",
       "      <th>0</th>\n",
       "      <td>Puget Sound: Main Basin</td>\n",
       "      <td>UW_P31</td>\n",
       "      <td>2.12</td>\n",
       "      <td>2.12</td>\n",
       "      <td>m</td>\n",
       "      <td>1999-06-15 08:39:43</td>\n",
       "      <td>Nitrate</td>\n",
       "      <td>11.77</td>\n",
       "      <td>uM</td>\n",
       "    </tr>\n",
       "    <tr>\n",
       "      <th>1</th>\n",
       "      <td>Puget Sound: Main Basin</td>\n",
       "      <td>UW_P31</td>\n",
       "      <td>2.12</td>\n",
       "      <td>2.12</td>\n",
       "      <td>m</td>\n",
       "      <td>1999-06-15 08:39:43</td>\n",
       "      <td>Nitrite</td>\n",
       "      <td>0.63</td>\n",
       "      <td>uM</td>\n",
       "    </tr>\n",
       "    <tr>\n",
       "      <th>2</th>\n",
       "      <td>Puget Sound: Main Basin</td>\n",
       "      <td>UW_P31</td>\n",
       "      <td>2.12</td>\n",
       "      <td>2.12</td>\n",
       "      <td>m</td>\n",
       "      <td>1999-06-15 08:39:43</td>\n",
       "      <td>Phosphate</td>\n",
       "      <td>1.41</td>\n",
       "      <td>uM</td>\n",
       "    </tr>\n",
       "    <tr>\n",
       "      <th>3</th>\n",
       "      <td>Puget Sound: Main Basin</td>\n",
       "      <td>UW_P31</td>\n",
       "      <td>2.12</td>\n",
       "      <td>2.12</td>\n",
       "      <td>m</td>\n",
       "      <td>1999-06-15 08:39:43</td>\n",
       "      <td>Ammonium</td>\n",
       "      <td>2.56</td>\n",
       "      <td>uM</td>\n",
       "    </tr>\n",
       "    <tr>\n",
       "      <th>4</th>\n",
       "      <td>Puget Sound: Main Basin</td>\n",
       "      <td>UW_P31</td>\n",
       "      <td>2.12</td>\n",
       "      <td>2.12</td>\n",
       "      <td>m</td>\n",
       "      <td>1999-06-15 08:39:43</td>\n",
       "      <td>Chlorophyll</td>\n",
       "      <td>2.50</td>\n",
       "      <td>ug/L</td>\n",
       "    </tr>\n",
       "  </tbody>\n",
       "</table>\n",
       "</div>"
      ],
      "text/plain": [
       "                   area_id location_id  upper_depth  lower_depth depth_units  \\\n",
       "0  Puget Sound: Main Basin      UW_P31         2.12         2.12           m   \n",
       "1  Puget Sound: Main Basin      UW_P31         2.12         2.12           m   \n",
       "2  Puget Sound: Main Basin      UW_P31         2.12         2.12           m   \n",
       "3  Puget Sound: Main Basin      UW_P31         2.12         2.12           m   \n",
       "4  Puget Sound: Main Basin      UW_P31         2.12         2.12           m   \n",
       "\n",
       "          sample_date      analyte  result units  \n",
       "0 1999-06-15 08:39:43      Nitrate   11.77    uM  \n",
       "1 1999-06-15 08:39:43      Nitrite    0.63    uM  \n",
       "2 1999-06-15 08:39:43    Phosphate    1.41    uM  \n",
       "3 1999-06-15 08:39:43     Ammonium    2.56    uM  \n",
       "4 1999-06-15 08:39:43  Chlorophyll    2.50  ug/L  "
      ]
     },
     "execution_count": 49,
     "metadata": {},
     "output_type": "execute_result"
    }
   ],
   "source": [
    "# Optionally, convert to a pandas DataFrame\n",
    "df = data.to_pandas()\n",
    "# Show the first few rows\n",
    "df.head()"
   ]
  },
  {
   "cell_type": "markdown",
   "metadata": {},
   "source": [
    "## Reading the Dataset with Pandas\n",
    "\n",
    "[Pandas reference](https://pandas.pydata.org/docs/reference/api/pandas.read_parquet.html#pandas-read-parquet)"
   ]
  },
  {
   "cell_type": "code",
   "execution_count": 50,
   "metadata": {},
   "outputs": [
    {
     "data": {
      "text/html": [
       "<div>\n",
       "<style scoped>\n",
       "    .dataframe tbody tr th:only-of-type {\n",
       "        vertical-align: middle;\n",
       "    }\n",
       "\n",
       "    .dataframe tbody tr th {\n",
       "        vertical-align: top;\n",
       "    }\n",
       "\n",
       "    .dataframe thead th {\n",
       "        text-align: right;\n",
       "    }\n",
       "</style>\n",
       "<table border=\"1\" class=\"dataframe\">\n",
       "  <thead>\n",
       "    <tr style=\"text-align: right;\">\n",
       "      <th></th>\n",
       "      <th>area_id</th>\n",
       "      <th>location_id</th>\n",
       "      <th>upper_depth</th>\n",
       "      <th>lower_depth</th>\n",
       "      <th>depth_units</th>\n",
       "      <th>sample_date</th>\n",
       "      <th>analyte</th>\n",
       "      <th>result</th>\n",
       "      <th>units</th>\n",
       "    </tr>\n",
       "  </thead>\n",
       "  <tbody>\n",
       "    <tr>\n",
       "      <th>0</th>\n",
       "      <td>Puget Sound: Main Basin</td>\n",
       "      <td>UW_P31</td>\n",
       "      <td>2.12</td>\n",
       "      <td>2.12</td>\n",
       "      <td>m</td>\n",
       "      <td>1999-06-15 08:39:43</td>\n",
       "      <td>Nitrate</td>\n",
       "      <td>11.77</td>\n",
       "      <td>uM</td>\n",
       "    </tr>\n",
       "    <tr>\n",
       "      <th>1</th>\n",
       "      <td>Puget Sound: Main Basin</td>\n",
       "      <td>UW_P31</td>\n",
       "      <td>2.12</td>\n",
       "      <td>2.12</td>\n",
       "      <td>m</td>\n",
       "      <td>1999-06-15 08:39:43</td>\n",
       "      <td>Nitrite</td>\n",
       "      <td>0.63</td>\n",
       "      <td>uM</td>\n",
       "    </tr>\n",
       "    <tr>\n",
       "      <th>2</th>\n",
       "      <td>Puget Sound: Main Basin</td>\n",
       "      <td>UW_P31</td>\n",
       "      <td>2.12</td>\n",
       "      <td>2.12</td>\n",
       "      <td>m</td>\n",
       "      <td>1999-06-15 08:39:43</td>\n",
       "      <td>Phosphate</td>\n",
       "      <td>1.41</td>\n",
       "      <td>uM</td>\n",
       "    </tr>\n",
       "    <tr>\n",
       "      <th>3</th>\n",
       "      <td>Puget Sound: Main Basin</td>\n",
       "      <td>UW_P31</td>\n",
       "      <td>2.12</td>\n",
       "      <td>2.12</td>\n",
       "      <td>m</td>\n",
       "      <td>1999-06-15 08:39:43</td>\n",
       "      <td>Ammonium</td>\n",
       "      <td>2.56</td>\n",
       "      <td>uM</td>\n",
       "    </tr>\n",
       "    <tr>\n",
       "      <th>4</th>\n",
       "      <td>Puget Sound: Main Basin</td>\n",
       "      <td>UW_P31</td>\n",
       "      <td>2.12</td>\n",
       "      <td>2.12</td>\n",
       "      <td>m</td>\n",
       "      <td>1999-06-15 08:39:43</td>\n",
       "      <td>Chlorophyll</td>\n",
       "      <td>2.50</td>\n",
       "      <td>ug/L</td>\n",
       "    </tr>\n",
       "  </tbody>\n",
       "</table>\n",
       "</div>"
      ],
      "text/plain": [
       "                   area_id location_id  upper_depth  lower_depth depth_units  \\\n",
       "0  Puget Sound: Main Basin      UW_P31         2.12         2.12           m   \n",
       "1  Puget Sound: Main Basin      UW_P31         2.12         2.12           m   \n",
       "2  Puget Sound: Main Basin      UW_P31         2.12         2.12           m   \n",
       "3  Puget Sound: Main Basin      UW_P31         2.12         2.12           m   \n",
       "4  Puget Sound: Main Basin      UW_P31         2.12         2.12           m   \n",
       "\n",
       "          sample_date      analyte  result units  \n",
       "0 1999-06-15 08:39:43      Nitrate   11.77    uM  \n",
       "1 1999-06-15 08:39:43      Nitrite    0.63    uM  \n",
       "2 1999-06-15 08:39:43    Phosphate    1.41    uM  \n",
       "3 1999-06-15 08:39:43     Ammonium    2.56    uM  \n",
       "4 1999-06-15 08:39:43  Chlorophyll    2.50  ug/L  "
      ]
     },
     "execution_count": 50,
     "metadata": {},
     "output_type": "execute_result"
    }
   ],
   "source": [
    "# Convert the data to a Pandas DataFrame\n",
    "df = pd.read_parquet(DATASET_DIR, engine=\"pyarrow\")\n",
    "# Read a couple of columns\n",
    "df = pd.read_parquet(DATASET_DIR, columns=[\"area_id\", \"location_id\", \"upper_depth\", \"lower_depth\", \"depth_units\", \"sample_date\", \"analyte\", \"result\", \"units\"], engine=\"pyarrow\")\n",
    "# Show the first few rows\n",
    "df.head()"
   ]
  },
  {
   "cell_type": "markdown",
   "metadata": {},
   "source": [
    "## Reading the Dataset with Polars\n",
    "\n",
    "[Polars reference](https://docs.pola.rs/api/python/dev/reference/api/polars.read_parquet.html)"
   ]
  },
  {
   "cell_type": "code",
   "execution_count": 51,
   "metadata": {},
   "outputs": [
    {
     "data": {
      "text/html": [
       "<div><style>\n",
       ".dataframe > thead > tr,\n",
       ".dataframe > tbody > tr {\n",
       "  text-align: right;\n",
       "  white-space: pre-wrap;\n",
       "}\n",
       "</style>\n",
       "<small>shape: (5, 9)</small><table border=\"1\" class=\"dataframe\"><thead><tr><th>area_id</th><th>location_id</th><th>upper_depth</th><th>lower_depth</th><th>depth_units</th><th>sample_date</th><th>analyte</th><th>result</th><th>units</th></tr><tr><td>str</td><td>str</td><td>f64</td><td>f64</td><td>str</td><td>datetime[μs]</td><td>str</td><td>f64</td><td>str</td></tr></thead><tbody><tr><td>&quot;Puget Sound: Main Basin&quot;</td><td>&quot;UW_P31&quot;</td><td>2.12</td><td>2.12</td><td>&quot;m&quot;</td><td>1999-06-15 08:39:43</td><td>&quot;Nitrate&quot;</td><td>11.77</td><td>&quot;uM&quot;</td></tr><tr><td>&quot;Puget Sound: Main Basin&quot;</td><td>&quot;UW_P31&quot;</td><td>2.12</td><td>2.12</td><td>&quot;m&quot;</td><td>1999-06-15 08:39:43</td><td>&quot;Nitrite&quot;</td><td>0.63</td><td>&quot;uM&quot;</td></tr><tr><td>&quot;Puget Sound: Main Basin&quot;</td><td>&quot;UW_P31&quot;</td><td>2.12</td><td>2.12</td><td>&quot;m&quot;</td><td>1999-06-15 08:39:43</td><td>&quot;Phosphate&quot;</td><td>1.41</td><td>&quot;uM&quot;</td></tr><tr><td>&quot;Puget Sound: Main Basin&quot;</td><td>&quot;UW_P31&quot;</td><td>2.12</td><td>2.12</td><td>&quot;m&quot;</td><td>1999-06-15 08:39:43</td><td>&quot;Ammonium&quot;</td><td>2.56</td><td>&quot;uM&quot;</td></tr><tr><td>&quot;Puget Sound: Main Basin&quot;</td><td>&quot;UW_P31&quot;</td><td>2.12</td><td>2.12</td><td>&quot;m&quot;</td><td>1999-06-15 08:39:43</td><td>&quot;Chlorophyll&quot;</td><td>2.5</td><td>&quot;ug/L&quot;</td></tr></tbody></table></div>"
      ],
      "text/plain": [
       "shape: (5, 9)\n",
       "┌────────────┬────────────┬────────────┬────────────┬───┬────────────┬────────────┬────────┬───────┐\n",
       "│ area_id    ┆ location_i ┆ upper_dept ┆ lower_dept ┆ … ┆ sample_dat ┆ analyte    ┆ result ┆ units │\n",
       "│ ---        ┆ d          ┆ h          ┆ h          ┆   ┆ e          ┆ ---        ┆ ---    ┆ ---   │\n",
       "│ str        ┆ ---        ┆ ---        ┆ ---        ┆   ┆ ---        ┆ str        ┆ f64    ┆ str   │\n",
       "│            ┆ str        ┆ f64        ┆ f64        ┆   ┆ datetime[μ ┆            ┆        ┆       │\n",
       "│            ┆            ┆            ┆            ┆   ┆ s]         ┆            ┆        ┆       │\n",
       "╞════════════╪════════════╪════════════╪════════════╪═══╪════════════╪════════════╪════════╪═══════╡\n",
       "│ Puget      ┆ UW_P31     ┆ 2.12       ┆ 2.12       ┆ … ┆ 1999-06-15 ┆ Nitrate    ┆ 11.77  ┆ uM    │\n",
       "│ Sound:     ┆            ┆            ┆            ┆   ┆ 08:39:43   ┆            ┆        ┆       │\n",
       "│ Main Basin ┆            ┆            ┆            ┆   ┆            ┆            ┆        ┆       │\n",
       "│ Puget      ┆ UW_P31     ┆ 2.12       ┆ 2.12       ┆ … ┆ 1999-06-15 ┆ Nitrite    ┆ 0.63   ┆ uM    │\n",
       "│ Sound:     ┆            ┆            ┆            ┆   ┆ 08:39:43   ┆            ┆        ┆       │\n",
       "│ Main Basin ┆            ┆            ┆            ┆   ┆            ┆            ┆        ┆       │\n",
       "│ Puget      ┆ UW_P31     ┆ 2.12       ┆ 2.12       ┆ … ┆ 1999-06-15 ┆ Phosphate  ┆ 1.41   ┆ uM    │\n",
       "│ Sound:     ┆            ┆            ┆            ┆   ┆ 08:39:43   ┆            ┆        ┆       │\n",
       "│ Main Basin ┆            ┆            ┆            ┆   ┆            ┆            ┆        ┆       │\n",
       "│ Puget      ┆ UW_P31     ┆ 2.12       ┆ 2.12       ┆ … ┆ 1999-06-15 ┆ Ammonium   ┆ 2.56   ┆ uM    │\n",
       "│ Sound:     ┆            ┆            ┆            ┆   ┆ 08:39:43   ┆            ┆        ┆       │\n",
       "│ Main Basin ┆            ┆            ┆            ┆   ┆            ┆            ┆        ┆       │\n",
       "│ Puget      ┆ UW_P31     ┆ 2.12       ┆ 2.12       ┆ … ┆ 1999-06-15 ┆ Chlorophyl ┆ 2.5    ┆ ug/L  │\n",
       "│ Sound:     ┆            ┆            ┆            ┆   ┆ 08:39:43   ┆ l          ┆        ┆       │\n",
       "│ Main Basin ┆            ┆            ┆            ┆   ┆            ┆            ┆        ┆       │\n",
       "└────────────┴────────────┴────────────┴────────────┴───┴────────────┴────────────┴────────┴───────┘"
      ]
     },
     "execution_count": 51,
     "metadata": {},
     "output_type": "execute_result"
    }
   ],
   "source": [
    "# Read the entire dataset\n",
    "df = pl.read_parquet(DATASET_DIR, use_pyarrow=True)\n",
    "# Select a couple of columns\n",
    "df = df.select([\"area_id\", \"location_id\", \"upper_depth\", \"lower_depth\", \"depth_units\", \"sample_date\", \"analyte\", \"result\", \"units\"])\n",
    "# Show the first few rows\n",
    "df.head()"
   ]
  }
 ],
 "metadata": {
  "kernelspec": {
   "display_name": ".venv",
   "language": "python",
   "name": "python3"
  },
  "language_info": {
   "codemirror_mode": {
    "name": "ipython",
    "version": 3
   },
   "file_extension": ".py",
   "mimetype": "text/x-python",
   "name": "python",
   "nbconvert_exporter": "python",
   "pygments_lexer": "ipython3",
   "version": "3.12.8"
  }
 },
 "nbformat": 4,
 "nbformat_minor": 2
}
